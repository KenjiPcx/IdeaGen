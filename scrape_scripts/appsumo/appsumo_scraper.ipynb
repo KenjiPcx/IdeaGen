{
 "cells": [
  {
   "cell_type": "code",
   "execution_count": 1,
   "metadata": {},
   "outputs": [
    {
     "name": "stdout",
     "output_type": "stream",
     "text": [
      "Warning: Synchronous WebCrawler is not available. Install crawl4ai[sync] for synchronous support. However, please note that the synchronous version will be deprecated soon.\n"
     ]
    }
   ],
   "source": [
    "import asyncio\n",
    "import nest_asyncio\n",
    "from crawl4ai import AsyncWebCrawler\n",
    "from crawl4ai.extraction_strategy import JsonCssExtractionStrategy, LLMExtractionStrategy\n",
    "import json\n",
    "import time\n",
    "from pydantic import BaseModel, Field\n",
    "\n",
    "nest_asyncio.apply()"
   ]
  },
  {
   "cell_type": "code",
   "execution_count": 4,
   "metadata": {},
   "outputs": [
    {
     "name": "stdout",
     "output_type": "stream",
     "text": [
      "[LOG] 🌤️  Warming up the AsyncWebCrawler\n",
      "[LOG] 🌞 AsyncWebCrawler is ready to crawl\n",
      "[LOG] 🚀 Content extracted for https://appsumo.com/software/?sort=rating, success: True, time taken: 0.04 seconds\n",
      "[LOG] 🚀 Extraction done for https://appsumo.com/software/?sort=rating, time taken: 0.04 seconds.\n",
      "Basic crawl result: Open menu\n",
      "\n",
      "AppSumo![](https://appsumo2next-cdn.appsumo.com/_next/static/media/as-appsumo-logo-dark.fbc325ee.svg)\n",
      "\n",
      "Submit search\n",
      "\n",
      "![Sell on AppSumo](https://appsumo2next-cdn.appsumo.com/_next/static/media/light-bulb-confetti.1be8d096.svg)\n",
      "\n",
      "Sell on AppSumoEarn money selling digital products\n",
      "\n",
      "Log in\n",
      "\n",
      "Cart\n",
      "\n",
      "  * Software\n",
      "  * Courses & more\n",
      "  * New arrivals\n",
      "  * Ending soon\n",
      "\n",
      "\n",
      "\n",
      "##### Filters\n",
      "\n",
      "Close Filters\n",
      "\n",
      "##### Shop by category:\n",
      "\n",
      "  * Software\n",
      "    * Operations\n",
      "    * Marketing & sales\n",
      "    * Build it you\n"
     ]
    }
   ],
   "source": [
    "async def simple_crawl():\n",
    "    async with AsyncWebCrawler(verbose=True) as crawler:\n",
    "        result = await crawler.arun(url=\"https://appsumo.com/software/?sort=rating\")\n",
    "        print(f\"Basic crawl result: {result.markdown[:500]}\")  # Print first 500 characters\n",
    "await simple_crawl()"
   ]
  },
  {
   "cell_type": "code",
   "execution_count": 119,
   "metadata": {},
   "outputs": [
    {
     "name": "stdout",
     "output_type": "stream",
     "text": [
      "[LOG] 🌤️  Warming up the AsyncWebCrawler\n",
      "[LOG] 🌞 AsyncWebCrawler is ready to crawl\n",
      "[LOG] 🕸️ Crawling https://appsumo.com/software/?sort=recommended using AsyncPlaywrightCrawlerStrategy...\n",
      "[ERROR] 🚫 Failed to crawl https://appsumo.com/software/?sort=recommended, error: Failed to crawl https://appsumo.com/software/?sort=recommended: Page.evaluate: Error: Clicked load more 4 tiems. Found 80 products\n",
      "    at eval (eval at evaluate (:234:30), <anonymous>:14:31)\n",
      "    at async <anonymous>:260:30\n"
     ]
    },
    {
     "ename": "TypeError",
     "evalue": "the JSON object must be str, bytes or bytearray, not NoneType",
     "output_type": "error",
     "traceback": [
      "\u001b[0;31m---------------------------------------------------------------------------\u001b[0m",
      "\u001b[0;31mTypeError\u001b[0m                                 Traceback (most recent call last)",
      "Cell \u001b[0;32mIn[119], line 109\u001b[0m\n\u001b[1;32m    107\u001b[0m         \u001b[38;5;28mprint\u001b[39m(\u001b[38;5;124mf\u001b[39m\u001b[38;5;124m\"\u001b[39m\u001b[38;5;124mSuccessfully crawled \u001b[39m\u001b[38;5;132;01m{\u001b[39;00m\u001b[38;5;28mlen\u001b[39m(all_products)\u001b[38;5;132;01m}\u001b[39;00m\u001b[38;5;124m\"\u001b[39m)\n\u001b[1;32m    108\u001b[0m         \u001b[38;5;28mprint\u001b[39m(json\u001b[38;5;241m.\u001b[39mdumps(all_products, indent\u001b[38;5;241m=\u001b[39m\u001b[38;5;241m2\u001b[39m))\n\u001b[0;32m--> 109\u001b[0m \u001b[43masyncio\u001b[49m\u001b[38;5;241;43m.\u001b[39;49m\u001b[43mrun\u001b[49m\u001b[43m(\u001b[49m\u001b[43mmain\u001b[49m\u001b[43m(\u001b[49m\u001b[43m)\u001b[49m\u001b[43m)\u001b[49m\n",
      "File \u001b[0;32m~/mambaforge/envs/ideagen/lib/python3.11/site-packages/nest_asyncio.py:30\u001b[0m, in \u001b[0;36m_patch_asyncio.<locals>.run\u001b[0;34m(main, debug)\u001b[0m\n\u001b[1;32m     28\u001b[0m task \u001b[38;5;241m=\u001b[39m asyncio\u001b[38;5;241m.\u001b[39mensure_future(main)\n\u001b[1;32m     29\u001b[0m \u001b[38;5;28;01mtry\u001b[39;00m:\n\u001b[0;32m---> 30\u001b[0m     \u001b[38;5;28;01mreturn\u001b[39;00m \u001b[43mloop\u001b[49m\u001b[38;5;241;43m.\u001b[39;49m\u001b[43mrun_until_complete\u001b[49m\u001b[43m(\u001b[49m\u001b[43mtask\u001b[49m\u001b[43m)\u001b[49m\n\u001b[1;32m     31\u001b[0m \u001b[38;5;28;01mfinally\u001b[39;00m:\n\u001b[1;32m     32\u001b[0m     \u001b[38;5;28;01mif\u001b[39;00m \u001b[38;5;129;01mnot\u001b[39;00m task\u001b[38;5;241m.\u001b[39mdone():\n",
      "File \u001b[0;32m~/mambaforge/envs/ideagen/lib/python3.11/site-packages/nest_asyncio.py:98\u001b[0m, in \u001b[0;36m_patch_loop.<locals>.run_until_complete\u001b[0;34m(self, future)\u001b[0m\n\u001b[1;32m     95\u001b[0m \u001b[38;5;28;01mif\u001b[39;00m \u001b[38;5;129;01mnot\u001b[39;00m f\u001b[38;5;241m.\u001b[39mdone():\n\u001b[1;32m     96\u001b[0m     \u001b[38;5;28;01mraise\u001b[39;00m \u001b[38;5;167;01mRuntimeError\u001b[39;00m(\n\u001b[1;32m     97\u001b[0m         \u001b[38;5;124m'\u001b[39m\u001b[38;5;124mEvent loop stopped before Future completed.\u001b[39m\u001b[38;5;124m'\u001b[39m)\n\u001b[0;32m---> 98\u001b[0m \u001b[38;5;28;01mreturn\u001b[39;00m \u001b[43mf\u001b[49m\u001b[38;5;241;43m.\u001b[39;49m\u001b[43mresult\u001b[49m\u001b[43m(\u001b[49m\u001b[43m)\u001b[49m\n",
      "File \u001b[0;32m~/mambaforge/envs/ideagen/lib/python3.11/asyncio/futures.py:203\u001b[0m, in \u001b[0;36mFuture.result\u001b[0;34m(self)\u001b[0m\n\u001b[1;32m    201\u001b[0m \u001b[38;5;28mself\u001b[39m\u001b[38;5;241m.\u001b[39m__log_traceback \u001b[38;5;241m=\u001b[39m \u001b[38;5;28;01mFalse\u001b[39;00m\n\u001b[1;32m    202\u001b[0m \u001b[38;5;28;01mif\u001b[39;00m \u001b[38;5;28mself\u001b[39m\u001b[38;5;241m.\u001b[39m_exception \u001b[38;5;129;01mis\u001b[39;00m \u001b[38;5;129;01mnot\u001b[39;00m \u001b[38;5;28;01mNone\u001b[39;00m:\n\u001b[0;32m--> 203\u001b[0m     \u001b[38;5;28;01mraise\u001b[39;00m \u001b[38;5;28mself\u001b[39m\u001b[38;5;241m.\u001b[39m_exception\u001b[38;5;241m.\u001b[39mwith_traceback(\u001b[38;5;28mself\u001b[39m\u001b[38;5;241m.\u001b[39m_exception_tb)\n\u001b[1;32m    204\u001b[0m \u001b[38;5;28;01mreturn\u001b[39;00m \u001b[38;5;28mself\u001b[39m\u001b[38;5;241m.\u001b[39m_result\n",
      "File \u001b[0;32m~/mambaforge/envs/ideagen/lib/python3.11/asyncio/tasks.py:277\u001b[0m, in \u001b[0;36mTask.__step\u001b[0;34m(***failed resolving arguments***)\u001b[0m\n\u001b[1;32m    273\u001b[0m \u001b[38;5;28;01mtry\u001b[39;00m:\n\u001b[1;32m    274\u001b[0m     \u001b[38;5;28;01mif\u001b[39;00m exc \u001b[38;5;129;01mis\u001b[39;00m \u001b[38;5;28;01mNone\u001b[39;00m:\n\u001b[1;32m    275\u001b[0m         \u001b[38;5;66;03m# We use the `send` method directly, because coroutines\u001b[39;00m\n\u001b[1;32m    276\u001b[0m         \u001b[38;5;66;03m# don't have `__iter__` and `__next__` methods.\u001b[39;00m\n\u001b[0;32m--> 277\u001b[0m         result \u001b[38;5;241m=\u001b[39m coro\u001b[38;5;241m.\u001b[39msend(\u001b[38;5;28;01mNone\u001b[39;00m)\n\u001b[1;32m    278\u001b[0m     \u001b[38;5;28;01melse\u001b[39;00m:\n\u001b[1;32m    279\u001b[0m         result \u001b[38;5;241m=\u001b[39m coro\u001b[38;5;241m.\u001b[39mthrow(exc)\n",
      "Cell \u001b[0;32mIn[119], line 100\u001b[0m, in \u001b[0;36mmain\u001b[0;34m()\u001b[0m\n\u001b[1;32m     83\u001b[0m wait_for \u001b[38;5;241m=\u001b[39m \u001b[38;5;124m\"\"\"\u001b[39m\u001b[38;5;124m() => \u001b[39m\u001b[38;5;124m{\u001b[39m\n\u001b[1;32m     84\u001b[0m \u001b[38;5;124m    const products = document.querySelectorAll(\u001b[39m\u001b[38;5;124m'\u001b[39m\u001b[38;5;124mdiv[class*=\u001b[39m\u001b[38;5;124m\"\u001b[39m\u001b[38;5;124mrounded bg-white md:border md:border-gray-300 md:shadow-md\u001b[39m\u001b[38;5;124m\"\u001b[39m\u001b[38;5;124m]\u001b[39m\u001b[38;5;124m'\u001b[39m\u001b[38;5;124m);\u001b[39m\n\u001b[1;32m     85\u001b[0m \u001b[38;5;124m    return products.length > 70;\u001b[39m\n\u001b[1;32m     86\u001b[0m \u001b[38;5;124m}\u001b[39m\u001b[38;5;124m\"\"\"\u001b[39m\n\u001b[1;32m     88\u001b[0m result \u001b[38;5;241m=\u001b[39m \u001b[38;5;28;01mawait\u001b[39;00m crawler\u001b[38;5;241m.\u001b[39marun(\n\u001b[1;32m     89\u001b[0m     url\u001b[38;5;241m=\u001b[39murl,\n\u001b[1;32m     90\u001b[0m     session_id\u001b[38;5;241m=\u001b[39msession_id,\n\u001b[0;32m   (...)\u001b[0m\n\u001b[1;32m     97\u001b[0m     screenshot\u001b[38;5;241m=\u001b[39m\u001b[38;5;28;01mTrue\u001b[39;00m,\n\u001b[1;32m     98\u001b[0m )\n\u001b[0;32m--> 100\u001b[0m products \u001b[38;5;241m=\u001b[39m \u001b[43mjson\u001b[49m\u001b[38;5;241;43m.\u001b[39;49m\u001b[43mloads\u001b[49m\u001b[43m(\u001b[49m\u001b[43mresult\u001b[49m\u001b[38;5;241;43m.\u001b[39;49m\u001b[43mextracted_content\u001b[49m\u001b[43m)\u001b[49m\n\u001b[1;32m    101\u001b[0m all_products\u001b[38;5;241m.\u001b[39mextend(products)\n\u001b[1;32m    102\u001b[0m \u001b[38;5;28;01mimport\u001b[39;00m \u001b[38;5;21;01mbase64\u001b[39;00m\n",
      "File \u001b[0;32m~/mambaforge/envs/ideagen/lib/python3.11/json/__init__.py:339\u001b[0m, in \u001b[0;36mloads\u001b[0;34m(s, cls, object_hook, parse_float, parse_int, parse_constant, object_pairs_hook, **kw)\u001b[0m\n\u001b[1;32m    337\u001b[0m \u001b[38;5;28;01melse\u001b[39;00m:\n\u001b[1;32m    338\u001b[0m     \u001b[38;5;28;01mif\u001b[39;00m \u001b[38;5;129;01mnot\u001b[39;00m \u001b[38;5;28misinstance\u001b[39m(s, (\u001b[38;5;28mbytes\u001b[39m, \u001b[38;5;28mbytearray\u001b[39m)):\n\u001b[0;32m--> 339\u001b[0m         \u001b[38;5;28;01mraise\u001b[39;00m \u001b[38;5;167;01mTypeError\u001b[39;00m(\u001b[38;5;124mf\u001b[39m\u001b[38;5;124m'\u001b[39m\u001b[38;5;124mthe JSON object must be str, bytes or bytearray, \u001b[39m\u001b[38;5;124m'\u001b[39m\n\u001b[1;32m    340\u001b[0m                         \u001b[38;5;124mf\u001b[39m\u001b[38;5;124m'\u001b[39m\u001b[38;5;124mnot \u001b[39m\u001b[38;5;132;01m{\u001b[39;00ms\u001b[38;5;241m.\u001b[39m\u001b[38;5;18m__class__\u001b[39m\u001b[38;5;241m.\u001b[39m\u001b[38;5;18m__name__\u001b[39m\u001b[38;5;132;01m}\u001b[39;00m\u001b[38;5;124m'\u001b[39m)\n\u001b[1;32m    341\u001b[0m     s \u001b[38;5;241m=\u001b[39m s\u001b[38;5;241m.\u001b[39mdecode(detect_encoding(s), \u001b[38;5;124m'\u001b[39m\u001b[38;5;124msurrogatepass\u001b[39m\u001b[38;5;124m'\u001b[39m)\n\u001b[1;32m    343\u001b[0m \u001b[38;5;28;01mif\u001b[39;00m (\u001b[38;5;28mcls\u001b[39m \u001b[38;5;129;01mis\u001b[39;00m \u001b[38;5;28;01mNone\u001b[39;00m \u001b[38;5;129;01mand\u001b[39;00m object_hook \u001b[38;5;129;01mis\u001b[39;00m \u001b[38;5;28;01mNone\u001b[39;00m \u001b[38;5;129;01mand\u001b[39;00m\n\u001b[1;32m    344\u001b[0m         parse_int \u001b[38;5;129;01mis\u001b[39;00m \u001b[38;5;28;01mNone\u001b[39;00m \u001b[38;5;129;01mand\u001b[39;00m parse_float \u001b[38;5;129;01mis\u001b[39;00m \u001b[38;5;28;01mNone\u001b[39;00m \u001b[38;5;129;01mand\u001b[39;00m\n\u001b[1;32m    345\u001b[0m         parse_constant \u001b[38;5;129;01mis\u001b[39;00m \u001b[38;5;28;01mNone\u001b[39;00m \u001b[38;5;129;01mand\u001b[39;00m object_pairs_hook \u001b[38;5;129;01mis\u001b[39;00m \u001b[38;5;28;01mNone\u001b[39;00m \u001b[38;5;129;01mand\u001b[39;00m \u001b[38;5;129;01mnot\u001b[39;00m kw):\n",
      "\u001b[0;31mTypeError\u001b[0m: the JSON object must be str, bytes or bytearray, not NoneType"
     ]
    }
   ],
   "source": [
    "import json\n",
    "import asyncio\n",
    "from crawl4ai import AsyncWebCrawler\n",
    "from crawl4ai.extraction_strategy import JsonCssExtractionStrategy\n",
    "\n",
    "all_products = []\n",
    "\n",
    "async def main():\n",
    "    async with AsyncWebCrawler(verbose=True) as crawler:\n",
    "        url = \"https://appsumo.com/collections/new/\"\n",
    "        session_id = \"appsumo_products_session\"\n",
    "\n",
    "        schema = {\n",
    "            \"name\": \"Product Extractor\",\n",
    "            \"baseSelector\": 'div[class*=\"rounded bg-white md:border md:border-gray-300 md:shadow-md\"]',\n",
    "            \"fields\": [\n",
    "                {\n",
    "                    \"name\": \"name\",\n",
    "                    \"selector\": \"span.overflow-hidden.text-ellipsis.whitespace-nowrap.font-bold\",\n",
    "                    \"type\": \"text\",\n",
    "                    \"transform\": \"strip\",\n",
    "                },\n",
    "                {\n",
    "                    \"name\": \"category\",\n",
    "                    \"selector\": \"span.max-md\\\\:text-xs a\",\n",
    "                    \"type\": \"text\",\n",
    "                    \"transform\": \"strip\",\n",
    "                },\n",
    "                {\n",
    "                    \"name\": \"shortDescription\",\n",
    "                    \"selector\": \"div.my-1.line-clamp-3\",\n",
    "                    \"type\": \"text\",\n",
    "                    \"transform\": \"strip\",\n",
    "                },\n",
    "                {\n",
    "                    \"name\": \"rating\",\n",
    "                    \"selector\": \"img[alt$='stars']\",\n",
    "                    \"type\": \"attribute\",\n",
    "                    \"attribute\": \"alt\",\n",
    "                    \"transform\": \"lambda x: x.split()[0]\",\n",
    "                },\n",
    "                {\n",
    "                    \"name\": \"noOfRatings\",\n",
    "                    \"selector\": \"a[href$='#reviews'] span\",\n",
    "                    \"type\": \"text\",\n",
    "                    \"transform\": \"lambda x: x.split()[0]\",\n",
    "                },\n",
    "                {\n",
    "                    \"name\": \"price\",\n",
    "                    \"selector\": \"div.font-medium.md\\\\:text-2xl span\",\n",
    "                    \"type\": \"text\",\n",
    "                    \"transform\": \"lambda x: x.split('/')[0]\",\n",
    "                },\n",
    "            ],\n",
    "        }\n",
    "        extraction_strategy = JsonCssExtractionStrategy(schema, verbose=True)\n",
    "\n",
    "        # Page 1 with auto loading\n",
    "        js_code = \"\"\"\n",
    "        (async () => {\n",
    "            window.scrollTo(0, document.body.scrollHeight);\n",
    "            await new Promise(resolve => setTimeout(resolve, 500));\n",
    "            window.scrollTo(0, document.body.scrollHeight);\n",
    "            await new Promise(resolve => setTimeout(resolve, 500));\n",
    "            let loadMoreButton = null;\n",
    "            for (let i = 0; i < 5; i++) {\n",
    "                loadMoreButton = document.querySelector('button.rounded-full.px-12.py-2');\n",
    "                loadMoreButton.click();\n",
    "                if (i == 4) {\n",
    "                    const products = document.querySelectorAll('div[class*=\"rounded bg-white md:border md:border-gray-300 md:shadow-md\"]');\n",
    "                \n",
    "                    if (products.length > 70) {\n",
    "                        throw new Error(\"Clicked load more 4 tiems. \" + \"Found \" + products.length + \" products\");\n",
    "                    }\n",
    "                }\n",
    "                await new Promise(resolve => setTimeout(resolve, 500));\n",
    "                window.scrollTo(0, document.body.scrollHeight);\n",
    "                await new Promise(resolve => setTimeout(resolve, 500));\n",
    "            }\n",
    "        })();\n",
    "        \"\"\"\n",
    "\n",
    "        wait_for = \"\"\"() => {\n",
    "            const products = document.querySelectorAll('div[class*=\"rounded bg-white md:border md:border-gray-300 md:shadow-md\"]');\n",
    "            return products.length > 70;\n",
    "        }\"\"\"\n",
    "\n",
    "        result = await crawler.arun(\n",
    "            url=url,\n",
    "            session_id=session_id,\n",
    "            css_selector=schema[\"baseSelector\"],\n",
    "            extraction_strategy=extraction_strategy,\n",
    "            js_code=js_code,\n",
    "            # wait_for=wait_for,\n",
    "            bypass_cache=True,\n",
    "            headless=True,\n",
    "            screenshot=True,\n",
    "        )\n",
    "\n",
    "        products = json.loads(result.extracted_content)\n",
    "        all_products.extend(products)\n",
    "        import base64\n",
    "        # Save the screenshot to a file\n",
    "        with open(\"screenshot.png\", \"wb\") as f:\n",
    "            f.write(base64.b64decode(result.screenshot))\n",
    "        await crawler.crawler_strategy.kill_session(session_id)\n",
    "        print(f\"Successfully crawled {len(all_products)}\")\n",
    "        print(json.dumps(all_products, indent=2))\n",
    "asyncio.run(main())"
   ]
  },
  {
   "cell_type": "code",
   "execution_count": 110,
   "metadata": {},
   "outputs": [
    {
     "name": "stdout",
     "output_type": "stream",
     "text": [
      "['Ranklytics', 'Pismo', 'SiteBehaviour', 'Butternut AI', 'VideoToPage', 'IKI.AI', 'Octolens', 'Hopper HQ', 'SparkReceipt', 'Kroto', 'Scrab.in', 'Evolup', 'InsertChat', 'Diffshop', 'SurveyNoodle', 'Binder', 'Legitt AI', 'Blastable', 'Signum.AI', 'OneSuite', 'SeoRocket.ai', 'Blue', 'Brizy Cloud', 'AskYourDatabase', 'TidyCal', 'Tarvent', 'Fraud Blocker - Plus Exclusive', 'Zync', 'GenPage', 'Video To Blog', 'Rocky AI', 'Acadle', 'Leadfwd', 'MimicPC', 'Qura', 'RanksPro', 'AppMySite', 'PowerIn', 'Followr', 'Doplac', 'Transcript.LOL', 'SendFox', 'GoZen HyperReach.Ai', 'viewflip', 'Claspo', 'Tapflow', 'mavic', 'AahSheet', 'Emailit', 'ZeroBounce Email Verification', 'KingSumo', 'Taja', 'Reoon Email Verifier', 'Socrates', 'Sociamonials', 'Fox Signals', 'Job Boardly', 'Pin Generator - Automated Pinterest Marketing', 'Lancepilot', 'BreezeDoc', 'Writeseed - AI Content Writer', 'Visitor Tracking - Unlimited Website Tracking', 'Formly - Forms, Surveys & Quizzes', 'Periodix', 'GoBrunch', 'MyMemo', 'LeadRocks', 'Interactive Shell', 'Charla', 'MrZeroCode', 'NoCodeBackend', 'WP Reset Pro Plan', 'SiteGuru', 'Growify', 'Switchy', 'XInterview AI', 'MarkupGo', 'GutenKit', 'BunnyDoc', 'SUPERMACHINE']\n"
     ]
    },
    {
     "data": {
      "text/plain": [
       "80"
      ]
     },
     "execution_count": 110,
     "metadata": {},
     "output_type": "execute_result"
    }
   ],
   "source": [
    "# get all product names\n",
    "product_names = [product['name'] for product in all_products]\n",
    "print(product_names)\n",
    "len(product_names)\n"
   ]
  },
  {
   "cell_type": "code",
   "execution_count": null,
   "metadata": {},
   "outputs": [],
   "source": []
  }
 ],
 "metadata": {
  "kernelspec": {
   "display_name": "ideagen",
   "language": "python",
   "name": "python3"
  },
  "language_info": {
   "codemirror_mode": {
    "name": "ipython",
    "version": 3
   },
   "file_extension": ".py",
   "mimetype": "text/x-python",
   "name": "python",
   "nbconvert_exporter": "python",
   "pygments_lexer": "ipython3",
   "version": "3.11.10"
  }
 },
 "nbformat": 4,
 "nbformat_minor": 2
}
